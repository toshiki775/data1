{
  "nbformat": 4,
  "nbformat_minor": 0,
  "metadata": {
    "colab": {
      "name": "1922003 遠藤俊輝　5/29_課題01",
      "provenance": []
    },
    "kernelspec": {
      "name": "python3",
      "display_name": "Python 3"
    }
  },
  "cells": [
    {
      "cell_type": "code",
      "metadata": {
        "id": "bv3-wuHDB2JA",
        "colab_type": "code",
        "colab": {}
      },
      "source": [
        "%matplotlib inline\n",
        "import matplotlib.pyplot as plt\n",
        "import matplotlib.patches as patches\n",
        "import numpy as np\n",
        "import math"
      ],
      "execution_count": 0,
      "outputs": []
    },
    {
      "cell_type": "code",
      "metadata": {
        "id": "-bc33P2wCN2A",
        "colab_type": "code",
        "colab": {}
      },
      "source": [
        "def return_lower2(y1,y2):\n",
        "    ######################################\n",
        "    # ここにコードを追加しよう\n",
        "    # 長方形の左端と右端で符号が違ったら0とする\n",
        "    if y1 * y2 < 0:\n",
        "        yi = 0\n",
        "    # x軸からの距離が近い方をyiに採用する\n",
        "    elif abs(y1) > abs(y2):\n",
        "        yi = y2\n",
        "    else:\n",
        "        yi = y1\n",
        "    ######################################    \n",
        "    return yi"
      ],
      "execution_count": 0,
      "outputs": []
    },
    {
      "cell_type": "code",
      "metadata": {
        "id": "sky27HUDB2zs",
        "colab_type": "code",
        "colab": {
          "base_uri": "https://localhost:8080/",
          "height": 281
        },
        "outputId": "0528d4d2-a807-404d-a72b-7983535f9aaa"
      },
      "source": [
        "def here_function(x): \n",
        "    y =  np.sqrt( -x**2 + 1)\n",
        "    return y\n",
        "start = -1\n",
        "last = 1\n",
        "\n",
        "\n",
        "x0 = np.arange(start,last, 0.01)\n",
        "y0 = here_function(x0)\n",
        "\n",
        "fig = plt.figure()\n",
        "ax = fig.add_subplot(1,1,1) \n",
        "\n",
        "ax.set_aspect('equal') # 見にくかったら外しても良い\n",
        "ax.spines['right'].set_visible(False)\n",
        "ax.spines['top'].set_visible(False)\n",
        "ax.spines['bottom'].set_position('zero')\n",
        "ax.spines['left'].set_position('zero')\n",
        "\n",
        "haba = 0.1\n",
        "#haba = 0.08\n",
        "#haba = 0.01\n",
        "x = np.arange(start,last, haba)\n",
        "y = here_function(x)\n",
        "\n",
        "area_sum = 0 \n",
        "\n",
        "for i in range(len(x)):\n",
        "    if x[i] + haba > last:\n",
        "        continue\n",
        "\n",
        "    y1 = y[i]\n",
        "    y2 = here_function(x[i]+ haba)\n",
        "    yi = return_lower2(y1, y2)    \n",
        "\n",
        "    c = patches.Circle(xy=(0, 0), radius=1.0, fc='none', ec='red') # 円を作成\n",
        "    r = patches.Rectangle(xy=(x[i], 0), width=haba, height=yi, ec='#000000', fc='#EEEEEE')\n",
        "    ax.add_patch(r)\n",
        "    ax.add_patch(c)\n",
        "    area_sum += yi * haba\n",
        "\n",
        "ax.plot(x0, y0)\n",
        "\n",
        "#ax.axis([-1.0,5.0,-1.0,20.0]) # 見にくかったら外しても良い\n",
        "plt.show() \n",
        "print(\"area_sum: \", area_sum)\n",
        "\n",
        "print(\"area_sum * 2: \", area_sum * 2)"
      ],
      "execution_count": 11,
      "outputs": [
        {
          "output_type": "display_data",
          "data": {
            "image/png": "[encoded data removed]",
            "text/plain": [
              "<Figure size 432x288 with 1 Axes>"
            ]
          },
          "metadata": {
            "tags": [],
            "needs_background": "light"
          }
        },
        {
          "output_type": "stream",
          "text": [
            "area_sum:  1.4522591664561606\n",
            "area_sum * 2:  2.904518332912321\n"
          ],
          "name": "stdout"
        }
      ]
    }
  ]
}